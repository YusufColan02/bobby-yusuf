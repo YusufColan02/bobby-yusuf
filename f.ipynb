{
 "cells": [
  {
   "cell_type": "code",
   "execution_count": null,
   "metadata": {},
   "outputs": [],
   "source": [
    "# agg_fn"
   ]
  },
  {
   "cell_type": "code",
   "execution_count": null,
   "metadata": {},
   "outputs": [],
   "source": [
    "agg_fn = {\n",
    "    'avg': {\n",
    "        \"keywords\": [],\n",
    "        \"description\": \"It is used for calculate the average value of some collective numbers\"\n",
    "    },\n",
    "    'sum' : {\n",
    "        \"keywords\": [],\n",
    "        \"description\": \"It is about when asking about to sum of all records to give the total value\"\n",
    "    },\n",
    "    'count' : {\n",
    "        \"keywords\": [],\n",
    "        \"description\": \"It is about to count something like how many records occured or available\"\n",
    "    },\n",
    "    'min' : {\n",
    "        \"keywords\": [],\n",
    "        \"description\": \"This the least of all thing, which is asked when someone to know the bottom things, that is no things beyond below it\"\n",
    "    },\n",
    "    'max' : {\n",
    "        \"keywords\": [],\n",
    "        \"description\": \"This the top of all thing, which is asked when someone to know the top or first one, that is no things beyond above it\"\n",
    "    },\n",
    "    # \"Range\" : {\n",
    "    #     \"keywords\": [],\n",
    "    #     \"description\": \"It's a warm intro at the starting of conversation\"\n",
    "    # }\n",
    "}"
   ]
  },
  {
   "cell_type": "code",
   "execution_count": null,
   "metadata": {},
   "outputs": [],
   "source": []
  },
  {
   "cell_type": "code",
   "execution_count": null,
   "metadata": {},
   "outputs": [],
   "source": [
    "def data_perform(query, classifier,functions, agg_fn):\n",
    "    functions_res = classifier(query, functions)\n",
    "    agg_res = classifier(query, agg_fn)\n",
    "    return functions_res,agg_res"
   ]
  },
  {
   "cell_type": "code",
   "execution_count": 1,
   "metadata": {},
   "outputs": [],
   "source": [
    "Choices = {\n",
    "\n",
    "    'Payment Report': {\n",
    "        'Term_wise':['termName'],\n",
    "\n",
    "        'Overall':[],\n",
    "        \n",
    "        'Class_wise':{\n",
    "            \"column\": ['className'],\n",
    "            'options':{\n",
    "                'division': [\"division\"],\n",
    "                'overall' : []\n",
    "            }\n",
    "            }\n",
    "    },\n",
    "    'Pending Payment': {\n",
    "        'Term_wise':['termName'],\n",
    "        'Overall':[],\n",
    "        'Class_wise':['className']\n",
    "    },\n",
    "    'Completed Payment': {\n",
    "        'Term_wise':['termName'],\n",
    "        'Overall':[],\n",
    "        'Class_wise':['className']\n",
    "    }\n",
    "}\n"
   ]
  },
  {
   "cell_type": "code",
   "execution_count": 16,
   "metadata": {},
   "outputs": [],
   "source": [
    "x = list(Choices['Payment Report'].keys())#['Term_wise']"
   ]
  },
  {
   "cell_type": "code",
   "execution_count": 17,
   "metadata": {},
   "outputs": [
    {
     "data": {
      "text/plain": [
       "['Periodic_wise', 'Overall', 'Class_wise']"
      ]
     },
     "execution_count": 17,
     "metadata": {},
     "output_type": "execute_result"
    }
   ],
   "source": [
    "x"
   ]
  },
  {
   "cell_type": "code",
   "execution_count": null,
   "metadata": {},
   "outputs": [],
   "source": []
  }
 ],
 "metadata": {
  "kernelspec": {
   "display_name": ".CAB",
   "language": "python",
   "name": "python3"
  },
  "language_info": {
   "codemirror_mode": {
    "name": "ipython",
    "version": 3
   },
   "file_extension": ".py",
   "mimetype": "text/x-python",
   "name": "python",
   "nbconvert_exporter": "python",
   "pygments_lexer": "ipython3",
   "version": "3.11.4"
  }
 },
 "nbformat": 4,
 "nbformat_minor": 2
}
